{
 "cells": [
  {
   "cell_type": "code",
   "execution_count": 88,
   "metadata": {},
   "outputs": [],
   "source": [
    "import pandas as pd\n",
    "import numpy as np\n",
    "import re\n",
    "\n",
    "#Tensorflow\n",
    "from tensorflow.keras.preprocessing.text import Tokenizer\n",
    "from tensorflow.keras.preprocessing.sequence import pad_sequences\n",
    "from tensorflow.keras.models import Sequential\n",
    "from tensorflow.keras.layers import Dense, Embedding, LSTM, SpatialDropout1D\n",
    "from sklearn.model_selection import train_test_split\n",
    "from keras.utils.np_utils import to_categorical\n",
    "from tensorflow.keras.callbacks import EarlyStopping\n",
    "from tensorflow.keras.layers import Dropout\n",
    "from tensorflow.keras.backend import clear_session\n",
    "from tensorflow.keras.regularizers import L1, L2, L1L2 \n",
    "import tensorflow as tf\n",
    "import matplotlib.pyplot as plt\n",
    "from plotly.offline import iplot\n",
    "\n",
    "from sklearn.model_selection import train_test_split\n",
    "\n",
    "\n",
    "from sklearn.preprocessing import StandardScaler\n",
    "from sklearn.decomposition import PCA"
   ]
  },
  {
   "cell_type": "code",
   "execution_count": 89,
   "metadata": {},
   "outputs": [],
   "source": [
    "df = pd.read_csv('breast-cancer.csv')"
   ]
  },
  {
   "cell_type": "code",
   "execution_count": 90,
   "metadata": {},
   "outputs": [],
   "source": [
    "df.drop(columns='Unnamed: 32',inplace=True)"
   ]
  },
  {
   "cell_type": "code",
   "execution_count": 91,
   "metadata": {},
   "outputs": [],
   "source": [
    "def encode(arr):\n",
    "    arr.loc[arr.diagnosis=='B']=0\n",
    "    arr.loc[arr.diagnosis=='M']=1\n",
    "    return arr"
   ]
  },
  {
   "cell_type": "code",
   "execution_count": 92,
   "metadata": {},
   "outputs": [],
   "source": [
    "df_encoded = encode(df)\n"
   ]
  },
  {
   "cell_type": "code",
   "execution_count": 93,
   "metadata": {},
   "outputs": [],
   "source": [
    "X = df_encoded.drop(columns=['diagnosis', 'id'])\n",
    "y = df_encoded.diagnosis"
   ]
  },
  {
   "cell_type": "code",
   "execution_count": 94,
   "metadata": {},
   "outputs": [],
   "source": [
    "X_train, X_test, y_train, y_test = train_test_split(X, y, random_state=42, train_size=0.5)"
   ]
  },
  {
   "cell_type": "code",
   "execution_count": 95,
   "metadata": {},
   "outputs": [],
   "source": [
    "sc = StandardScaler()\n",
    "X_train = sc.fit_transform(X_train)\n",
    "X_test = sc.transform(X_test)"
   ]
  },
  {
   "cell_type": "code",
   "execution_count": 96,
   "metadata": {},
   "outputs": [],
   "source": [
    "pca = PCA(n_components=7)\n",
    "X_train = pca.fit_transform(X_train)\n",
    "X_test = pca.transform(X_test)"
   ]
  },
  {
   "cell_type": "code",
   "execution_count": 97,
   "metadata": {},
   "outputs": [],
   "source": [
    "explained_variance = pca.explained_variance_ratio_"
   ]
  },
  {
   "cell_type": "code",
   "execution_count": 98,
   "metadata": {},
   "outputs": [
    {
     "data": {
      "text/plain": [
       "array([1.00000000e+00, 9.65122014e-33, 9.65122014e-33, 9.65122014e-33,\n",
       "       9.65122014e-33, 9.65122014e-33, 9.65122014e-33])"
      ]
     },
     "execution_count": 98,
     "metadata": {},
     "output_type": "execute_result"
    }
   ],
   "source": [
    "explained_variance"
   ]
  },
  {
   "cell_type": "code",
   "execution_count": 99,
   "metadata": {},
   "outputs": [],
   "source": [
    "n = X_train.shape[0]"
   ]
  },
  {
   "cell_type": "code",
   "execution_count": 100,
   "metadata": {},
   "outputs": [
    {
     "data": {
      "text/plain": [
       "284"
      ]
     },
     "execution_count": 100,
     "metadata": {},
     "output_type": "execute_result"
    }
   ],
   "source": [
    "n"
   ]
  },
  {
   "cell_type": "code",
   "execution_count": 105,
   "metadata": {},
   "outputs": [],
   "source": [
    "clear_session()\n",
    "model = tf.keras.Sequential([\n",
    "    tf.keras.Input(shape=(7,)),\n",
    "    tf.keras.layers.Dense(256, activation='relu'),\n",
    "    tf.keras.layers.Dropout(0.4),\n",
    "    tf.keras.layers.Dense(75, activation='relu'),\n",
    "    tf.keras.layers.Dropout(0.3),\n",
    "    tf.keras.layers.Dense(1, activation='sigmoid')\n",
    "    \n",
    "])\n"
   ]
  },
  {
   "cell_type": "code",
   "execution_count": 106,
   "metadata": {},
   "outputs": [],
   "source": [
    "model.compile(optimizer='adam', \n",
    "              loss='binary_crossentropy', \n",
    "              metrics=['accuracy'])\n"
   ]
  },
  {
   "cell_type": "code",
   "execution_count": 107,
   "metadata": {},
   "outputs": [
    {
     "name": "stdout",
     "output_type": "stream",
     "text": [
      "Model: \"sequential\"\n",
      "_________________________________________________________________\n",
      " Layer (type)                Output Shape              Param #   \n",
      "=================================================================\n",
      " dense (Dense)               (None, 256)               2048      \n",
      "                                                                 \n",
      " dropout (Dropout)           (None, 256)               0         \n",
      "                                                                 \n",
      " dense_1 (Dense)             (None, 75)                19275     \n",
      "                                                                 \n",
      " dropout_1 (Dropout)         (None, 75)                0         \n",
      "                                                                 \n",
      " dense_2 (Dense)             (None, 1)                 76        \n",
      "                                                                 \n",
      "=================================================================\n",
      "Total params: 21,399\n",
      "Trainable params: 21,399\n",
      "Non-trainable params: 0\n",
      "_________________________________________________________________\n"
     ]
    }
   ],
   "source": [
    "model.summary()"
   ]
  },
  {
   "cell_type": "code",
   "execution_count": 108,
   "metadata": {},
   "outputs": [
    {
     "name": "stdout",
     "output_type": "stream",
     "text": [
      "Epoch 1/100\n",
      "40/40 [==============================] - 1s 5ms/step - loss: 0.1396 - accuracy: 0.9545 - val_loss: 0.0050 - val_accuracy: 1.0000\n",
      "Epoch 2/100\n",
      "40/40 [==============================] - 0s 2ms/step - loss: 0.0039 - accuracy: 1.0000 - val_loss: 0.0014 - val_accuracy: 1.0000\n",
      "Epoch 3/100\n",
      "40/40 [==============================] - 0s 2ms/step - loss: 0.0019 - accuracy: 1.0000 - val_loss: 5.5606e-04 - val_accuracy: 1.0000\n",
      "Epoch 4/100\n",
      "40/40 [==============================] - 0s 2ms/step - loss: 0.0010 - accuracy: 1.0000 - val_loss: 2.3289e-04 - val_accuracy: 1.0000\n",
      "Epoch 5/100\n",
      "40/40 [==============================] - 0s 2ms/step - loss: 5.7082e-04 - accuracy: 1.0000 - val_loss: 1.2684e-04 - val_accuracy: 1.0000\n",
      "Epoch 6/100\n",
      "40/40 [==============================] - 0s 2ms/step - loss: 4.0291e-04 - accuracy: 1.0000 - val_loss: 7.6667e-05 - val_accuracy: 1.0000\n",
      "Epoch 7/100\n",
      "40/40 [==============================] - 0s 2ms/step - loss: 2.0700e-04 - accuracy: 1.0000 - val_loss: 5.5956e-05 - val_accuracy: 1.0000\n",
      "Epoch 8/100\n",
      "40/40 [==============================] - 0s 2ms/step - loss: 2.2877e-04 - accuracy: 1.0000 - val_loss: 4.1346e-05 - val_accuracy: 1.0000\n",
      "Epoch 9/100\n",
      "40/40 [==============================] - 0s 2ms/step - loss: 1.6828e-04 - accuracy: 1.0000 - val_loss: 3.1640e-05 - val_accuracy: 1.0000\n",
      "Epoch 10/100\n",
      "40/40 [==============================] - 0s 2ms/step - loss: 9.3792e-05 - accuracy: 1.0000 - val_loss: 2.6179e-05 - val_accuracy: 1.0000\n",
      "Epoch 11/100\n",
      "40/40 [==============================] - 0s 2ms/step - loss: 8.5053e-05 - accuracy: 1.0000 - val_loss: 2.1340e-05 - val_accuracy: 1.0000\n",
      "Epoch 12/100\n",
      "40/40 [==============================] - 0s 2ms/step - loss: 1.0692e-04 - accuracy: 1.0000 - val_loss: 1.6856e-05 - val_accuracy: 1.0000\n",
      "Epoch 13/100\n",
      "40/40 [==============================] - 0s 2ms/step - loss: 7.2163e-05 - accuracy: 1.0000 - val_loss: 1.3942e-05 - val_accuracy: 1.0000\n",
      "Epoch 14/100\n",
      "40/40 [==============================] - 0s 2ms/step - loss: 5.6782e-05 - accuracy: 1.0000 - val_loss: 1.2134e-05 - val_accuracy: 1.0000\n",
      "Epoch 15/100\n",
      "40/40 [==============================] - 0s 2ms/step - loss: 7.9210e-05 - accuracy: 1.0000 - val_loss: 9.5964e-06 - val_accuracy: 1.0000\n",
      "Epoch 16/100\n",
      "40/40 [==============================] - 0s 2ms/step - loss: 6.1776e-05 - accuracy: 1.0000 - val_loss: 7.9821e-06 - val_accuracy: 1.0000\n",
      "Epoch 17/100\n",
      "40/40 [==============================] - 0s 2ms/step - loss: 6.2010e-05 - accuracy: 1.0000 - val_loss: 6.6055e-06 - val_accuracy: 1.0000\n",
      "Epoch 18/100\n",
      "40/40 [==============================] - 0s 2ms/step - loss: 7.8031e-05 - accuracy: 1.0000 - val_loss: 5.3700e-06 - val_accuracy: 1.0000\n",
      "Epoch 19/100\n",
      "40/40 [==============================] - 0s 2ms/step - loss: 9.2888e-05 - accuracy: 1.0000 - val_loss: 4.5489e-06 - val_accuracy: 1.0000\n",
      "Epoch 20/100\n",
      "40/40 [==============================] - 0s 2ms/step - loss: 7.2050e-05 - accuracy: 1.0000 - val_loss: 3.7700e-06 - val_accuracy: 1.0000\n",
      "Epoch 21/100\n",
      "40/40 [==============================] - 0s 2ms/step - loss: 5.3760e-05 - accuracy: 1.0000 - val_loss: 3.1978e-06 - val_accuracy: 1.0000\n",
      "Epoch 22/100\n",
      "40/40 [==============================] - 0s 2ms/step - loss: 3.0640e-05 - accuracy: 1.0000 - val_loss: 2.9017e-06 - val_accuracy: 1.0000\n",
      "Epoch 23/100\n",
      "40/40 [==============================] - 0s 2ms/step - loss: 2.6554e-05 - accuracy: 1.0000 - val_loss: 2.6086e-06 - val_accuracy: 1.0000\n",
      "Epoch 24/100\n",
      "40/40 [==============================] - 0s 2ms/step - loss: 2.3753e-05 - accuracy: 1.0000 - val_loss: 2.3779e-06 - val_accuracy: 1.0000\n",
      "Epoch 25/100\n",
      "40/40 [==============================] - 0s 2ms/step - loss: 5.1287e-05 - accuracy: 1.0000 - val_loss: 2.0619e-06 - val_accuracy: 1.0000\n",
      "Epoch 26/100\n",
      "40/40 [==============================] - 0s 2ms/step - loss: 3.8864e-05 - accuracy: 1.0000 - val_loss: 1.7626e-06 - val_accuracy: 1.0000\n",
      "Epoch 27/100\n",
      "40/40 [==============================] - 0s 2ms/step - loss: 2.0098e-05 - accuracy: 1.0000 - val_loss: 1.6219e-06 - val_accuracy: 1.0000\n",
      "Epoch 28/100\n",
      "40/40 [==============================] - 0s 2ms/step - loss: 1.1181e-05 - accuracy: 1.0000 - val_loss: 1.5141e-06 - val_accuracy: 1.0000\n",
      "Epoch 29/100\n",
      "40/40 [==============================] - 0s 2ms/step - loss: 1.0892e-05 - accuracy: 1.0000 - val_loss: 1.4189e-06 - val_accuracy: 1.0000\n",
      "Epoch 30/100\n",
      "40/40 [==============================] - 0s 2ms/step - loss: 1.5044e-05 - accuracy: 1.0000 - val_loss: 1.3187e-06 - val_accuracy: 1.0000\n",
      "Epoch 31/100\n",
      "40/40 [==============================] - 0s 2ms/step - loss: 3.9975e-05 - accuracy: 1.0000 - val_loss: 1.1941e-06 - val_accuracy: 1.0000\n",
      "Epoch 32/100\n",
      "40/40 [==============================] - 0s 2ms/step - loss: 2.3934e-05 - accuracy: 1.0000 - val_loss: 1.0614e-06 - val_accuracy: 1.0000\n",
      "Epoch 33/100\n",
      "40/40 [==============================] - 0s 2ms/step - loss: 2.2096e-05 - accuracy: 1.0000 - val_loss: 9.6773e-07 - val_accuracy: 1.0000\n",
      "Epoch 34/100\n",
      "40/40 [==============================] - 0s 2ms/step - loss: 1.9776e-05 - accuracy: 1.0000 - val_loss: 8.9338e-07 - val_accuracy: 1.0000\n",
      "Epoch 35/100\n",
      "40/40 [==============================] - 0s 2ms/step - loss: 2.3204e-05 - accuracy: 1.0000 - val_loss: 8.0487e-07 - val_accuracy: 1.0000\n",
      "Epoch 36/100\n",
      "40/40 [==============================] - 0s 2ms/step - loss: 3.0513e-05 - accuracy: 1.0000 - val_loss: 7.1701e-07 - val_accuracy: 1.0000\n",
      "Epoch 37/100\n",
      "40/40 [==============================] - 0s 2ms/step - loss: 2.1500e-05 - accuracy: 1.0000 - val_loss: 6.4926e-07 - val_accuracy: 1.0000\n",
      "Epoch 38/100\n",
      "40/40 [==============================] - 0s 2ms/step - loss: 3.1255e-05 - accuracy: 1.0000 - val_loss: 5.7671e-07 - val_accuracy: 1.0000\n",
      "Epoch 39/100\n",
      "40/40 [==============================] - 0s 2ms/step - loss: 1.5214e-05 - accuracy: 1.0000 - val_loss: 5.2651e-07 - val_accuracy: 1.0000\n",
      "Epoch 40/100\n",
      "40/40 [==============================] - 0s 2ms/step - loss: 9.2743e-05 - accuracy: 1.0000 - val_loss: 4.5558e-07 - val_accuracy: 1.0000\n",
      "Epoch 41/100\n",
      "40/40 [==============================] - 0s 2ms/step - loss: 1.0354e-05 - accuracy: 1.0000 - val_loss: 3.9702e-07 - val_accuracy: 1.0000\n",
      "Epoch 42/100\n",
      "40/40 [==============================] - 0s 2ms/step - loss: 1.1781e-05 - accuracy: 1.0000 - val_loss: 3.6964e-07 - val_accuracy: 1.0000\n",
      "Epoch 43/100\n",
      "40/40 [==============================] - 0s 2ms/step - loss: 7.5468e-06 - accuracy: 1.0000 - val_loss: 3.5171e-07 - val_accuracy: 1.0000\n",
      "Epoch 44/100\n",
      "40/40 [==============================] - 0s 2ms/step - loss: 5.7518e-05 - accuracy: 1.0000 - val_loss: 3.1459e-07 - val_accuracy: 1.0000\n",
      "Epoch 45/100\n",
      "40/40 [==============================] - 0s 2ms/step - loss: 2.1216e-05 - accuracy: 1.0000 - val_loss: 2.7940e-07 - val_accuracy: 1.0000\n",
      "Epoch 46/100\n",
      "40/40 [==============================] - 0s 2ms/step - loss: 6.6595e-06 - accuracy: 1.0000 - val_loss: 2.6454e-07 - val_accuracy: 1.0000\n",
      "Epoch 47/100\n",
      "40/40 [==============================] - 0s 2ms/step - loss: 5.7561e-06 - accuracy: 1.0000 - val_loss: 2.5304e-07 - val_accuracy: 1.0000\n",
      "Epoch 48/100\n",
      "40/40 [==============================] - 0s 2ms/step - loss: 5.1780e-05 - accuracy: 1.0000 - val_loss: 2.1815e-07 - val_accuracy: 1.0000\n",
      "Epoch 49/100\n",
      "40/40 [==============================] - 0s 2ms/step - loss: 3.5270e-06 - accuracy: 1.0000 - val_loss: 2.0552e-07 - val_accuracy: 1.0000\n",
      "Epoch 50/100\n",
      "40/40 [==============================] - 0s 2ms/step - loss: 4.4459e-06 - accuracy: 1.0000 - val_loss: 1.9804e-07 - val_accuracy: 1.0000\n",
      "Epoch 51/100\n",
      "40/40 [==============================] - 0s 2ms/step - loss: 4.4321e-06 - accuracy: 1.0000 - val_loss: 1.9120e-07 - val_accuracy: 1.0000\n",
      "Epoch 52/100\n",
      "40/40 [==============================] - 0s 2ms/step - loss: 1.4066e-05 - accuracy: 1.0000 - val_loss: 1.7841e-07 - val_accuracy: 1.0000\n",
      "Epoch 53/100\n",
      "40/40 [==============================] - 0s 2ms/step - loss: 6.9562e-06 - accuracy: 1.0000 - val_loss: 1.6702e-07 - val_accuracy: 1.0000\n",
      "Epoch 54/100\n",
      "40/40 [==============================] - 0s 2ms/step - loss: 1.4643e-05 - accuracy: 1.0000 - val_loss: 1.5387e-07 - val_accuracy: 1.0000\n",
      "Epoch 55/100\n",
      "40/40 [==============================] - 0s 2ms/step - loss: 6.0033e-06 - accuracy: 1.0000 - val_loss: 1.4521e-07 - val_accuracy: 1.0000\n"
     ]
    },
    {
     "name": "stdout",
     "output_type": "stream",
     "text": [
      "Epoch 56/100\n",
      "40/40 [==============================] - 0s 2ms/step - loss: 7.1518e-06 - accuracy: 1.0000 - val_loss: 1.3763e-07 - val_accuracy: 1.0000\n",
      "Epoch 57/100\n",
      "40/40 [==============================] - 0s 2ms/step - loss: 8.5941e-06 - accuracy: 1.0000 - val_loss: 1.3121e-07 - val_accuracy: 1.0000\n",
      "Epoch 58/100\n",
      "40/40 [==============================] - 0s 2ms/step - loss: 9.0333e-06 - accuracy: 1.0000 - val_loss: 1.2317e-07 - val_accuracy: 1.0000\n",
      "Epoch 59/100\n",
      "40/40 [==============================] - 0s 2ms/step - loss: 1.2617e-05 - accuracy: 1.0000 - val_loss: 1.1277e-07 - val_accuracy: 1.0000\n",
      "Epoch 60/100\n",
      "40/40 [==============================] - 0s 2ms/step - loss: 8.8588e-06 - accuracy: 1.0000 - val_loss: 1.0488e-07 - val_accuracy: 1.0000\n",
      "Epoch 61/100\n",
      "40/40 [==============================] - 0s 2ms/step - loss: 1.6256e-05 - accuracy: 1.0000 - val_loss: 9.7440e-08 - val_accuracy: 1.0000\n",
      "Epoch 62/100\n",
      "40/40 [==============================] - 0s 2ms/step - loss: 2.1467e-06 - accuracy: 1.0000 - val_loss: 9.2935e-08 - val_accuracy: 1.0000\n",
      "Epoch 63/100\n",
      "40/40 [==============================] - 0s 2ms/step - loss: 9.6454e-06 - accuracy: 1.0000 - val_loss: 8.9207e-08 - val_accuracy: 1.0000\n",
      "Epoch 64/100\n",
      "40/40 [==============================] - 0s 2ms/step - loss: 8.2903e-06 - accuracy: 1.0000 - val_loss: 8.2260e-08 - val_accuracy: 1.0000\n",
      "Epoch 65/100\n",
      "40/40 [==============================] - 0s 2ms/step - loss: 2.5539e-06 - accuracy: 1.0000 - val_loss: 7.8991e-08 - val_accuracy: 1.0000\n",
      "Epoch 66/100\n",
      "40/40 [==============================] - 0s 2ms/step - loss: 6.1980e-06 - accuracy: 1.0000 - val_loss: 7.4991e-08 - val_accuracy: 1.0000\n",
      "Epoch 67/100\n",
      "40/40 [==============================] - 0s 2ms/step - loss: 5.0421e-06 - accuracy: 1.0000 - val_loss: 7.1875e-08 - val_accuracy: 1.0000\n",
      "Epoch 68/100\n",
      "40/40 [==============================] - 0s 2ms/step - loss: 3.1945e-06 - accuracy: 1.0000 - val_loss: 6.9166e-08 - val_accuracy: 1.0000\n",
      "Epoch 69/100\n",
      "40/40 [==============================] - 0s 2ms/step - loss: 1.0504e-06 - accuracy: 1.0000 - val_loss: 6.7740e-08 - val_accuracy: 1.0000\n",
      "Epoch 70/100\n",
      "40/40 [==============================] - 0s 2ms/step - loss: 5.3028e-06 - accuracy: 1.0000 - val_loss: 6.4768e-08 - val_accuracy: 1.0000\n",
      "Epoch 71/100\n",
      "40/40 [==============================] - 0s 2ms/step - loss: 2.3699e-06 - accuracy: 1.0000 - val_loss: 6.2273e-08 - val_accuracy: 1.0000\n",
      "Epoch 72/100\n",
      "40/40 [==============================] - 0s 2ms/step - loss: 5.1513e-06 - accuracy: 1.0000 - val_loss: 5.9809e-08 - val_accuracy: 1.0000\n",
      "Epoch 73/100\n",
      "40/40 [==============================] - 0s 2ms/step - loss: 2.0655e-06 - accuracy: 1.0000 - val_loss: 5.7990e-08 - val_accuracy: 1.0000\n",
      "Epoch 74/100\n",
      "40/40 [==============================] - 0s 2ms/step - loss: 5.2524e-06 - accuracy: 1.0000 - val_loss: 5.4943e-08 - val_accuracy: 1.0000\n",
      "Epoch 75/100\n",
      "40/40 [==============================] - 0s 2ms/step - loss: 2.7529e-06 - accuracy: 1.0000 - val_loss: 5.2458e-08 - val_accuracy: 1.0000\n",
      "Epoch 76/100\n",
      "40/40 [==============================] - 0s 2ms/step - loss: 4.6741e-06 - accuracy: 1.0000 - val_loss: 4.9553e-08 - val_accuracy: 1.0000\n",
      "Epoch 77/100\n",
      "40/40 [==============================] - 0s 2ms/step - loss: 1.0888e-06 - accuracy: 1.0000 - val_loss: 4.8485e-08 - val_accuracy: 1.0000\n",
      "Epoch 78/100\n",
      "40/40 [==============================] - 0s 2ms/step - loss: 3.7952e-06 - accuracy: 1.0000 - val_loss: 4.6301e-08 - val_accuracy: 1.0000\n",
      "Epoch 79/100\n",
      "40/40 [==============================] - 0s 2ms/step - loss: 6.6443e-06 - accuracy: 1.0000 - val_loss: 4.3044e-08 - val_accuracy: 1.0000\n",
      "Epoch 80/100\n",
      "40/40 [==============================] - 0s 2ms/step - loss: 4.0695e-06 - accuracy: 1.0000 - val_loss: 4.1077e-08 - val_accuracy: 1.0000\n",
      "Epoch 81/100\n",
      "40/40 [==============================] - 0s 2ms/step - loss: 1.9880e-06 - accuracy: 1.0000 - val_loss: 3.9533e-08 - val_accuracy: 1.0000\n",
      "Epoch 82/100\n",
      "40/40 [==============================] - 0s 2ms/step - loss: 2.0829e-06 - accuracy: 1.0000 - val_loss: 3.8248e-08 - val_accuracy: 1.0000\n",
      "Epoch 83/100\n",
      "40/40 [==============================] - 0s 2ms/step - loss: 1.0021e-06 - accuracy: 1.0000 - val_loss: 3.7376e-08 - val_accuracy: 1.0000\n",
      "Epoch 84/100\n",
      "40/40 [==============================] - 0s 2ms/step - loss: 3.5670e-06 - accuracy: 1.0000 - val_loss: 3.5705e-08 - val_accuracy: 1.0000\n",
      "Epoch 85/100\n",
      "40/40 [==============================] - 0s 2ms/step - loss: 1.3842e-06 - accuracy: 1.0000 - val_loss: 3.4394e-08 - val_accuracy: 1.0000\n",
      "Epoch 86/100\n",
      "40/40 [==============================] - 0s 2ms/step - loss: 3.1965e-06 - accuracy: 1.0000 - val_loss: 3.2638e-08 - val_accuracy: 1.0000\n",
      "Epoch 87/100\n",
      "40/40 [==============================] - 0s 2ms/step - loss: 1.7443e-06 - accuracy: 1.0000 - val_loss: 3.1449e-08 - val_accuracy: 1.0000\n",
      "Epoch 88/100\n",
      "40/40 [==============================] - 0s 2ms/step - loss: 2.4209e-06 - accuracy: 1.0000 - val_loss: 3.0168e-08 - val_accuracy: 1.0000\n",
      "Epoch 89/100\n",
      "40/40 [==============================] - 0s 2ms/step - loss: 1.2251e-06 - accuracy: 1.0000 - val_loss: 2.9358e-08 - val_accuracy: 1.0000\n",
      "Epoch 90/100\n",
      "40/40 [==============================] - 0s 2ms/step - loss: 3.1343e-06 - accuracy: 1.0000 - val_loss: 2.8076e-08 - val_accuracy: 1.0000\n",
      "Epoch 91/100\n",
      "40/40 [==============================] - 0s 2ms/step - loss: 1.2575e-06 - accuracy: 1.0000 - val_loss: 2.7166e-08 - val_accuracy: 1.0000\n",
      "Epoch 92/100\n",
      "40/40 [==============================] - 0s 2ms/step - loss: 8.8010e-07 - accuracy: 1.0000 - val_loss: 2.6664e-08 - val_accuracy: 1.0000\n",
      "Epoch 93/100\n",
      "40/40 [==============================] - 0s 2ms/step - loss: 1.6406e-06 - accuracy: 1.0000 - val_loss: 2.5747e-08 - val_accuracy: 1.0000\n",
      "Epoch 94/100\n",
      "40/40 [==============================] - 0s 2ms/step - loss: 2.6619e-06 - accuracy: 1.0000 - val_loss: 2.4828e-08 - val_accuracy: 1.0000\n",
      "Epoch 95/100\n",
      "40/40 [==============================] - 0s 2ms/step - loss: 1.7710e-06 - accuracy: 1.0000 - val_loss: 2.3966e-08 - val_accuracy: 1.0000\n",
      "Epoch 96/100\n",
      "40/40 [==============================] - 0s 2ms/step - loss: 1.0711e-06 - accuracy: 1.0000 - val_loss: 2.3445e-08 - val_accuracy: 1.0000\n",
      "Epoch 97/100\n",
      "40/40 [==============================] - 0s 3ms/step - loss: 1.7220e-06 - accuracy: 1.0000 - val_loss: 2.2725e-08 - val_accuracy: 1.0000\n",
      "Epoch 98/100\n",
      "40/40 [==============================] - 0s 2ms/step - loss: 1.8961e-06 - accuracy: 1.0000 - val_loss: 2.1823e-08 - val_accuracy: 1.0000\n",
      "Epoch 99/100\n",
      "40/40 [==============================] - 0s 2ms/step - loss: 9.0799e-07 - accuracy: 1.0000 - val_loss: 2.1154e-08 - val_accuracy: 1.0000\n",
      "Epoch 100/100\n",
      "40/40 [==============================] - 0s 2ms/step - loss: 1.8562e-06 - accuracy: 1.0000 - val_loss: 2.0426e-08 - val_accuracy: 1.0000\n"
     ]
    }
   ],
   "source": [
    "X_train = np.asarray(X_train).astype(np.float32)\n",
    "y_train = np.asarray(y_train).astype(np.float32)\n",
    "\n",
    "history = model.fit(X_train, y_train, epochs=100, batch_size=5, validation_split=0.3)"
   ]
  },
  {
   "cell_type": "code",
   "execution_count": 109,
   "metadata": {},
   "outputs": [
    {
     "data": {
      "image/png": "[encoded data removed]",
      "text/plain": [
       "<Figure size 640x480 with 1 Axes>"
      ]
     },
     "metadata": {},
     "output_type": "display_data"
    },
    {
     "data": {
      "image/png": "[encoded data removed]",
      "text/plain": [
       "<Figure size 640x480 with 1 Axes>"
      ]
     },
     "metadata": {},
     "output_type": "display_data"
    }
   ],
   "source": [
    "plt.plot(history.history['loss'], label='train')\n",
    "plt.plot(history.history['val_loss'], label='validation')\n",
    "plt.legend()\n",
    "plt.xlabel('epoch')\n",
    "plt.ylabel('loss')\n",
    "plt.show();\n",
    "\n",
    "plt.plot(history.history['accuracy'], label='train')\n",
    "plt.plot(history.history['val_accuracy'], label='validation')\n",
    "plt.legend()\n",
    "plt.xlabel('epoch')\n",
    "plt.ylabel('accuracy')\n",
    "plt.show();"
   ]
  },
  {
   "cell_type": "code",
   "execution_count": 17,
   "metadata": {},
   "outputs": [
    {
     "ename": "ValueError",
     "evalue": "Failed to convert a NumPy array to a Tensor (Unsupported object type int).",
     "output_type": "error",
     "traceback": [
      "\u001b[0;31m---------------------------------------------------------------------------\u001b[0m",
      "\u001b[0;31mValueError\u001b[0m                                Traceback (most recent call last)",
      "\u001b[0;32m<ipython-input-17-992baad61863>\u001b[0m in \u001b[0;36m<module>\u001b[0;34m\u001b[0m\n\u001b[0;32m----> 1\u001b[0;31m \u001b[0mtest_loss\u001b[0m\u001b[0;34m,\u001b[0m \u001b[0mtest_acc\u001b[0m \u001b[0;34m=\u001b[0m \u001b[0mmodel\u001b[0m\u001b[0;34m.\u001b[0m\u001b[0mevaluate\u001b[0m\u001b[0;34m(\u001b[0m\u001b[0mX_test\u001b[0m\u001b[0;34m,\u001b[0m  \u001b[0my_test\u001b[0m\u001b[0;34m,\u001b[0m \u001b[0mverbose\u001b[0m\u001b[0;34m=\u001b[0m\u001b[0;36m2\u001b[0m\u001b[0;34m)\u001b[0m\u001b[0;34m\u001b[0m\u001b[0;34m\u001b[0m\u001b[0m\n\u001b[0m",
      "\u001b[0;32m~/opt/anaconda3/lib/python3.7/site-packages/keras/utils/traceback_utils.py\u001b[0m in \u001b[0;36merror_handler\u001b[0;34m(*args, **kwargs)\u001b[0m\n\u001b[1;32m     65\u001b[0m     \u001b[0;32mexcept\u001b[0m \u001b[0mException\u001b[0m \u001b[0;32mas\u001b[0m \u001b[0me\u001b[0m\u001b[0;34m:\u001b[0m  \u001b[0;31m# pylint: disable=broad-except\u001b[0m\u001b[0;34m\u001b[0m\u001b[0;34m\u001b[0m\u001b[0m\n\u001b[1;32m     66\u001b[0m       \u001b[0mfiltered_tb\u001b[0m \u001b[0;34m=\u001b[0m \u001b[0m_process_traceback_frames\u001b[0m\u001b[0;34m(\u001b[0m\u001b[0me\u001b[0m\u001b[0;34m.\u001b[0m\u001b[0m__traceback__\u001b[0m\u001b[0;34m)\u001b[0m\u001b[0;34m\u001b[0m\u001b[0;34m\u001b[0m\u001b[0m\n\u001b[0;32m---> 67\u001b[0;31m       \u001b[0;32mraise\u001b[0m \u001b[0me\u001b[0m\u001b[0;34m.\u001b[0m\u001b[0mwith_traceback\u001b[0m\u001b[0;34m(\u001b[0m\u001b[0mfiltered_tb\u001b[0m\u001b[0;34m)\u001b[0m \u001b[0;32mfrom\u001b[0m \u001b[0;32mNone\u001b[0m\u001b[0;34m\u001b[0m\u001b[0;34m\u001b[0m\u001b[0m\n\u001b[0m\u001b[1;32m     68\u001b[0m     \u001b[0;32mfinally\u001b[0m\u001b[0;34m:\u001b[0m\u001b[0;34m\u001b[0m\u001b[0;34m\u001b[0m\u001b[0m\n\u001b[1;32m     69\u001b[0m       \u001b[0;32mdel\u001b[0m \u001b[0mfiltered_tb\u001b[0m\u001b[0;34m\u001b[0m\u001b[0;34m\u001b[0m\u001b[0m\n",
      "\u001b[0;32m~/opt/anaconda3/lib/python3.7/site-packages/tensorflow/python/framework/constant_op.py\u001b[0m in \u001b[0;36mconvert_to_eager_tensor\u001b[0;34m(value, ctx, dtype)\u001b[0m\n\u001b[1;32m    104\u001b[0m       \u001b[0mdtype\u001b[0m \u001b[0;34m=\u001b[0m \u001b[0mdtypes\u001b[0m\u001b[0;34m.\u001b[0m\u001b[0mas_dtype\u001b[0m\u001b[0;34m(\u001b[0m\u001b[0mdtype\u001b[0m\u001b[0;34m)\u001b[0m\u001b[0;34m.\u001b[0m\u001b[0mas_datatype_enum\u001b[0m\u001b[0;34m\u001b[0m\u001b[0;34m\u001b[0m\u001b[0m\n\u001b[1;32m    105\u001b[0m   \u001b[0mctx\u001b[0m\u001b[0;34m.\u001b[0m\u001b[0mensure_initialized\u001b[0m\u001b[0;34m(\u001b[0m\u001b[0;34m)\u001b[0m\u001b[0;34m\u001b[0m\u001b[0;34m\u001b[0m\u001b[0m\n\u001b[0;32m--> 106\u001b[0;31m   \u001b[0;32mreturn\u001b[0m \u001b[0mops\u001b[0m\u001b[0;34m.\u001b[0m\u001b[0mEagerTensor\u001b[0m\u001b[0;34m(\u001b[0m\u001b[0mvalue\u001b[0m\u001b[0;34m,\u001b[0m \u001b[0mctx\u001b[0m\u001b[0;34m.\u001b[0m\u001b[0mdevice_name\u001b[0m\u001b[0;34m,\u001b[0m \u001b[0mdtype\u001b[0m\u001b[0;34m)\u001b[0m\u001b[0;34m\u001b[0m\u001b[0;34m\u001b[0m\u001b[0m\n\u001b[0m\u001b[1;32m    107\u001b[0m \u001b[0;34m\u001b[0m\u001b[0m\n\u001b[1;32m    108\u001b[0m \u001b[0;34m\u001b[0m\u001b[0m\n",
      "\u001b[0;31mValueError\u001b[0m: Failed to convert a NumPy array to a Tensor (Unsupported object type int)."
     ]
    }
   ],
   "source": [
    "test_loss, test_acc = model.evaluate(X_test,  y_test, verbose=2)"
   ]
  },
  {
   "cell_type": "code",
   "execution_count": null,
   "metadata": {},
   "outputs": [],
   "source": [
    "# Network design\n",
    "model = Sequential()\n",
    "model.add(Dense(256, activation)) \n",
    "model %>%# Input layer\n",
    " layer_dense(units = 256, activation = ‘relu’, input_shape =  ncol(X_train)) %>% \n",
    " layer_dropout(rate = 0.4) %>% \n",
    "# Hidden layer\n",
    " layer_dense(units = 75, activation = ‘relu’) %>%\n",
    "# Output layer\n",
    " layer_dropout(rate = 0.3) %>%\n",
    " layer_dense(units = 2, activation = ‘sigmoid’)"
   ]
  },
  {
   "cell_type": "code",
   "execution_count": null,
   "metadata": {},
   "outputs": [],
   "source": [
    "# Network config\n",
    "history <- model %>% compile(\n",
    " loss = ‘binary_crossentropy’,\n",
    " optimizer = ‘adam’,\n",
    " metrics = c(‘accuracy’)\n",
    ")# Running our data\n",
    "model %>% fit(\n",
    " X_train, y_train, \n",
    " epochs = 100, \n",
    " batch_size = 5,\n",
    " validation_split = 0.3\n",
    ")summary(model)"
   ]
  }
 ],
 "metadata": {
  "kernelspec": {
   "display_name": "Python 3",
   "language": "python",
   "name": "python3"
  },
  "language_info": {
   "codemirror_mode": {
    "name": "ipython",
    "version": 3
   },
   "file_extension": ".py",
   "mimetype": "text/x-python",
   "name": "python",
   "nbconvert_exporter": "python",
   "pygments_lexer": "ipython3",
   "version": "3.7.6"
  }
 },
 "nbformat": 4,
 "nbformat_minor": 4
}
